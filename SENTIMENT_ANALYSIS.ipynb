{
  "nbformat": 4,
  "nbformat_minor": 0,
  "metadata": {
    "colab": {
      "provenance": [],
      "authorship_tag": "ABX9TyOsUB8H2wnRgoHrc53OM1Lp",
      "include_colab_link": true
    },
    "kernelspec": {
      "name": "python3",
      "display_name": "Python 3"
    },
    "language_info": {
      "name": "python"
    }
  },
  "cells": [
    {
      "cell_type": "markdown",
      "metadata": {
        "id": "view-in-github",
        "colab_type": "text"
      },
      "source": [
        "<a href=\"https://colab.research.google.com/github/maverick19-hub/Work/blob/main/SENTIMENT_ANALYSIS.ipynb\" target=\"_parent\"><img src=\"https://colab.research.google.com/assets/colab-badge.svg\" alt=\"Open In Colab\"/></a>"
      ]
    },
    {
      "cell_type": "markdown",
      "source": [
        "# INTRODUCTION.\n",
        "\n",
        "In recent years, social media platforms such as Twitter have become vital spaces for public expression, discussion, and sometimes, the spread of hate speech. Monitoring and analyzing these online conversations is essential for understanding public sentiment and identifying potential cases of online abuse, incitement, or polarization.\n",
        "\n",
        "This project focuses on performing sentiment analysis on a Kenyan social media dataset—HateSpeechKe—collected from Twitter. The objective is to classify tweets into positive, neutral, or negative sentiment categories and interpret the results. By leveraging Natural Language Processing (NLP) techniques and pre-trained sentiment models (such as VADER), the analysis aims to uncover patterns in user opinions, trends in emotional tone, and potential biases related to sociopolitical discourse.\n",
        "\n",
        "\n",
        "\n",
        "The workflow that follows involves;\n",
        "\n",
        "1) Data preprocessing (cleaning text, removing noise),\n",
        "\n",
        "2) Sentiment classification using VADER from the NLTK library,\n",
        "\n",
        "3) Distribution analysis of sentiments across the dataset, and\n",
        "\n",
        "4) Interpretation of trends and implications, particularly in the context of hate speech.\n",
        "\n",
        "Through this analysis, we aim to contribute to a better understanding of how sentiment manifests in social media content related to sensitive or controversial topics in Kenya."
      ],
      "metadata": {
        "id": "hYj29rrDlc5O"
      }
    },
    {
      "cell_type": "code",
      "execution_count": 1,
      "metadata": {
        "colab": {
          "base_uri": "https://localhost:8080/"
        },
        "id": "9Dhx0tmqlYFG",
        "outputId": "5d8ba7ef-209e-473e-8ee7-1c8890d3be49"
      },
      "outputs": [
        {
          "output_type": "stream",
          "name": "stdout",
          "text": [
            "Requirement already satisfied: pandas in /usr/local/lib/python3.11/dist-packages (2.2.2)\n",
            "Requirement already satisfied: nltk in /usr/local/lib/python3.11/dist-packages (3.9.1)\n",
            "Requirement already satisfied: matplotlib in /usr/local/lib/python3.11/dist-packages (3.10.0)\n",
            "Requirement already satisfied: seaborn in /usr/local/lib/python3.11/dist-packages (0.13.2)\n",
            "Requirement already satisfied: numpy>=1.23.2 in /usr/local/lib/python3.11/dist-packages (from pandas) (2.0.2)\n",
            "Requirement already satisfied: python-dateutil>=2.8.2 in /usr/local/lib/python3.11/dist-packages (from pandas) (2.9.0.post0)\n",
            "Requirement already satisfied: pytz>=2020.1 in /usr/local/lib/python3.11/dist-packages (from pandas) (2025.2)\n",
            "Requirement already satisfied: tzdata>=2022.7 in /usr/local/lib/python3.11/dist-packages (from pandas) (2025.2)\n",
            "Requirement already satisfied: click in /usr/local/lib/python3.11/dist-packages (from nltk) (8.2.1)\n",
            "Requirement already satisfied: joblib in /usr/local/lib/python3.11/dist-packages (from nltk) (1.5.1)\n",
            "Requirement already satisfied: regex>=2021.8.3 in /usr/local/lib/python3.11/dist-packages (from nltk) (2024.11.6)\n",
            "Requirement already satisfied: tqdm in /usr/local/lib/python3.11/dist-packages (from nltk) (4.67.1)\n",
            "Requirement already satisfied: contourpy>=1.0.1 in /usr/local/lib/python3.11/dist-packages (from matplotlib) (1.3.2)\n",
            "Requirement already satisfied: cycler>=0.10 in /usr/local/lib/python3.11/dist-packages (from matplotlib) (0.12.1)\n",
            "Requirement already satisfied: fonttools>=4.22.0 in /usr/local/lib/python3.11/dist-packages (from matplotlib) (4.58.5)\n",
            "Requirement already satisfied: kiwisolver>=1.3.1 in /usr/local/lib/python3.11/dist-packages (from matplotlib) (1.4.8)\n",
            "Requirement already satisfied: packaging>=20.0 in /usr/local/lib/python3.11/dist-packages (from matplotlib) (24.2)\n",
            "Requirement already satisfied: pillow>=8 in /usr/local/lib/python3.11/dist-packages (from matplotlib) (11.2.1)\n",
            "Requirement already satisfied: pyparsing>=2.3.1 in /usr/local/lib/python3.11/dist-packages (from matplotlib) (3.2.3)\n",
            "Requirement already satisfied: six>=1.5 in /usr/local/lib/python3.11/dist-packages (from python-dateutil>=2.8.2->pandas) (1.17.0)\n"
          ]
        }
      ],
      "source": [
        "pip install pandas nltk matplotlib seaborn"
      ]
    },
    {
      "cell_type": "markdown",
      "source": [
        "# Step 1: Load and Inspect the Dataset"
      ],
      "metadata": {
        "id": "X5ttmB-hm7iU"
      }
    },
    {
      "cell_type": "code",
      "source": [
        "import pandas as pd\n",
        "\n",
        "# Load the file\n",
        "df = pd.read_csv(\"/content/Wote12024NLP.csv\", header=None, names=[\"raw_text\"])\n",
        "\n",
        "# Remove header row if present\n",
        "df = df[df[\"raw_text\"] != \"tweet\"]\n",
        "\n",
        "# Split on semicolon\n",
        "split_df = df[\"raw_text\"].str.split(\";\", expand=True)\n",
        "\n",
        "# Extract the actual tweet text (usually in the 5th column, index 4)\n",
        "split_df[\"tweet_text\"] = split_df[4].str.replace('\"', '').str.strip()\n",
        "\n",
        "# Preview\n",
        "print(split_df[\"tweet_text\"].head())\n"
      ],
      "metadata": {
        "colab": {
          "base_uri": "https://localhost:8080/"
        },
        "id": "esE9l-wIlnvY",
        "outputId": "a2ac8554-cb70-45e3-c553-df8c6c5be23c"
      },
      "execution_count": 8,
      "outputs": [
        {
          "output_type": "stream",
          "name": "stdout",
          "text": [
            "1    That #ShangweVedio should be replaced. Where d...\n",
            "2    they wrote letters to iebc their bloggers tren...\n",
            "3    Akombe was a nasa mole   Jubilee never wanted ...\n",
            "4    @paulinenjoroge @OleItumbi @JubileePartyK @Tea...\n",
            "5                                        #akombemustgo\n",
            "Name: tweet_text, dtype: object\n"
          ]
        }
      ]
    },
    {
      "cell_type": "markdown",
      "source": [
        "# Step 2: Clean the Tweet Text"
      ],
      "metadata": {
        "id": "FvVV6A1mmaH8"
      }
    },
    {
      "cell_type": "code",
      "source": [
        "import re\n",
        "\n",
        "# Define cleaning function\n",
        "def clean_text(text):\n",
        "    # Convert non-string inputs to string, handling None\n",
        "    if not isinstance(text, str):\n",
        "        text = str(text)\n",
        "\n",
        "    text = re.sub(r\"http\\S+\", \"\", text)  # remove URLs\n",
        "    text = re.sub(r\"@\\w+\", \"\", text)     # remove mentions\n",
        "    text = re.sub(r\"#\\w+\", \"\", text)     # remove hashtags\n",
        "    text = re.sub(r\"[^\\w\\s]\", \"\", text)  # remove punctuation\n",
        "    return text.lower().strip()\n",
        "\n",
        "# Fill None values with empty strings before applying the function\n",
        "split_df[\"clean_text\"] = split_df[\"tweet_text\"].fillna(\"\").apply(clean_text)\n",
        "\n",
        "# Preview cleaned tweets\n",
        "print(split_df[\"clean_text\"].head())"
      ],
      "metadata": {
        "colab": {
          "base_uri": "https://localhost:8080/"
        },
        "id": "t21aot5TmUsZ",
        "outputId": "a544416d-fefa-4424-a224-fd99f4710527"
      },
      "execution_count": 10,
      "outputs": [
        {
          "output_type": "stream",
          "name": "stdout",
          "text": [
            "1      that  should be replaced where did  disappeared\n",
            "2    they wrote letters to iebc their bloggers tren...\n",
            "3    akombe was a nasa mole   jubilee never wanted ...\n",
            "4            akuna kulala 247  pictwittercom6wfyu4rywx\n",
            "5                                                     \n",
            "Name: clean_text, dtype: object\n"
          ]
        }
      ]
    },
    {
      "cell_type": "markdown",
      "source": [
        "# Step 3: Perform Sentiment Analysis Using VADER"
      ],
      "metadata": {
        "id": "pRfMSMnumkbf"
      }
    },
    {
      "cell_type": "code",
      "source": [
        "import nltk\n",
        "from nltk.sentiment import SentimentIntensityAnalyzer\n",
        "\n",
        "nltk.download(\"vader_lexicon\")\n",
        "sia = SentimentIntensityAnalyzer()\n",
        "\n",
        "# Apply VADER to get sentiment scores\n",
        "split_df[\"sentiment_scores\"] = split_df[\"clean_text\"].apply(sia.polarity_scores)\n",
        "\n",
        "# Extract compound score and classify\n",
        "def classify_sentiment(score):\n",
        "    compound = score[\"compound\"]\n",
        "    if compound >= 0.05:\n",
        "        return \"positive\"\n",
        "    elif compound <= -0.05:\n",
        "        return \"negative\"\n",
        "    else:\n",
        "        return \"neutral\"\n",
        "\n",
        "split_df[\"sentiment\"] = split_df[\"sentiment_scores\"].apply(classify_sentiment)\n",
        "\n",
        "# Preview result\n",
        "print(split_df[[\"clean_text\", \"sentiment\"]].head())\n"
      ],
      "metadata": {
        "colab": {
          "base_uri": "https://localhost:8080/"
        },
        "id": "Xiv6SlpJmVts",
        "outputId": "09ab86a5-e2ae-439c-9941-3ea0e686a0d2"
      },
      "execution_count": 11,
      "outputs": [
        {
          "output_type": "stream",
          "name": "stderr",
          "text": [
            "[nltk_data] Downloading package vader_lexicon to /root/nltk_data...\n"
          ]
        },
        {
          "output_type": "stream",
          "name": "stdout",
          "text": [
            "                                          clean_text sentiment\n",
            "1    that  should be replaced where did  disappeared  negative\n",
            "2  they wrote letters to iebc their bloggers tren...  negative\n",
            "3  akombe was a nasa mole   jubilee never wanted ...   neutral\n",
            "4          akuna kulala 247  pictwittercom6wfyu4rywx   neutral\n",
            "5                                                      neutral\n"
          ]
        }
      ]
    },
    {
      "cell_type": "markdown",
      "source": [
        "# INTERPRETATION\n",
        "\n",
        "This shows that Negative sentiment has been detected for tweets with complaints or politically charged language and Neutral sentiment for more factual or unclear tones.\n",
        "\n",
        "This means VADER is working and scoring the tweets based on tone and polarity."
      ],
      "metadata": {
        "id": "AUFuf_q3p0I3"
      }
    },
    {
      "cell_type": "markdown",
      "source": [
        "# Step 4: Sentiment Distribution"
      ],
      "metadata": {
        "id": "54FV03I7mrWu"
      }
    },
    {
      "cell_type": "code",
      "source": [
        "import seaborn as sns\n",
        "import matplotlib.pyplot as plt\n",
        "\n",
        "# Count sentiments\n",
        "sentiment_counts = split_df[\"sentiment\"].value_counts()\n",
        "\n",
        "# Plot\n",
        "sns.set(style=\"whitegrid\")\n",
        "sns.barplot(x=sentiment_counts.index, y=sentiment_counts.values, palette=\"muted\")\n",
        "plt.title(\"Sentiment Distribution\")\n",
        "plt.ylabel(\"Number of Tweets\")\n",
        "plt.xlabel(\"Sentiment\")\n",
        "plt.show()\n"
      ],
      "metadata": {
        "colab": {
          "base_uri": "https://localhost:8080/",
          "height": 587
        },
        "id": "-iXrHm39mvO2",
        "outputId": "da2ebe36-848a-4cc1-a66b-4fb3056db237"
      },
      "execution_count": 12,
      "outputs": [
        {
          "output_type": "stream",
          "name": "stderr",
          "text": [
            "/tmp/ipython-input-12-1722421071.py:9: FutureWarning: \n",
            "\n",
            "Passing `palette` without assigning `hue` is deprecated and will be removed in v0.14.0. Assign the `x` variable to `hue` and set `legend=False` for the same effect.\n",
            "\n",
            "  sns.barplot(x=sentiment_counts.index, y=sentiment_counts.values, palette=\"muted\")\n"
          ]
        },
        {
          "output_type": "display_data",
          "data": {
            "text/plain": [
              "<Figure size 640x480 with 1 Axes>"
            ],
            "image/png": "[encoded data removed]"
          },
          "metadata": {}
        }
      ]
    },
    {
      "cell_type": "markdown",
      "source": [
        "# **Interpretation**\n",
        "\n",
        "The sentiment analysis of the HateSpeechKe dataset reveals three primary sentiment categories: positive, negative, and neutral.\n",
        "\n",
        "Based on the distribution chart\n",
        "\n",
        "->The majority of tweets (approximately 55,000) were classified as neutral, suggesting that a large portion of the tweets contain factual, unclear, or emotionally balanced content.\n",
        "\n",
        "-> Negative tweets (about 52,000) form a significant portion of the dataset. This indicates the presence of critical, aggressive, or potentially harmful language — a notable concern in the context of hate speech.\n",
        "\n",
        "-> Positive tweets (around 46,000) were the least common, implying that expressions of support, praise, or optimism were relatively less frequent in this dataset.\n",
        "\n",
        "\n",
        "**Observations**\n",
        "\n",
        "The high number of neutral tweets may be due to short or ambiguous phrases, hashtags, or mentions that don’t convey strong sentiment.\n",
        "\n",
        "The close margin between neutral and negative sentiments may reflect the dataset’s focus on political conversations, protests, or criticism — which often carry a negative emotional tone.\n",
        "\n",
        "The lower frequency of positive sentiment could suggest limited constructive or supportive discourse in the collected tweets.\n",
        "\n",
        "**Potential Biases & Limitations**\n",
        "\n",
        "The use of VADER, while effective for general sentiment, may not fully capture context-specific or coded hate speech often present in Kenyan sociopolitical discourse.\n",
        "\n",
        "Sarcasm, local dialects, or political slang may lead to misclassification.\n",
        "\n",
        "Neutral classification might overrepresent tweets that contain subtle negativity or dog whistles not captured by the sentiment model."
      ],
      "metadata": {
        "id": "DScGICnumxXu"
      }
    }
  ]
}